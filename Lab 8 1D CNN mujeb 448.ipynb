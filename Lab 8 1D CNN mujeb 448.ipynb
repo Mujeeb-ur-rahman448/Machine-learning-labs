{
 "cells": [
  {
   "cell_type": "code",
   "execution_count": null,
   "metadata": {},
   "outputs": [],
   "source": []
  },
  {
   "cell_type": "code",
   "execution_count": 1,
   "metadata": {},
   "outputs": [],
   "source": [
    "import os\n",
    "os.chdir(r'C:\\Users\\Mujeeb-ur-Rahman\\Desktop\\mujeeb-ur-rahman448')"
   ]
  },
  {
   "cell_type": "code",
   "execution_count": 2,
   "metadata": {},
   "outputs": [],
   "source": [
    "from sklearn.metrics import mean_squared_error, mean_absolute_error, explained_variance_score, r2_score\n",
    "from timeseires.utils.to_split import to_split\n",
    "from timeseires.utils.multivariate_multi_step import multivariate_multi_step\n",
    "from timeseires.utils.multivariate_single_step import multivariate_single_step\n",
    "from timeseires.utils.univariate_multi_step import univariate_multi_step\n",
    "from timeseires.utils.univariate_single_step import univariate_single_step\n",
    "from timeseires.utils.CosineAnnealingLRS import CosineAnnealingLRS\n",
    "from timeseires.callbacks.EpochCheckpoint import EpochCheckpoint\n",
    "from tensorflow.keras.callbacks import ModelCheckpoint\n",
    "from timeseires.callbacks.TrainingMonitor import TrainingMonitor\n",
    "from tensorflow.keras.optimizers import Adam\n",
    "from tensorflow.keras.optimizers import SGD\n",
    "from tensorflow.keras.models import load_model\n",
    "from tensorflow.keras.layers import LSTM, Bidirectional, Add\n",
    "from tensorflow.keras.layers import BatchNormalization\n",
    "from tensorflow.keras.layers import Conv1D,TimeDistributed\n",
    "from tensorflow.keras.layers import Dense, Dropout, Activation, Flatten,MaxPooling1D,Concatenate,AveragePooling1D, GlobalMaxPooling1D, Input\n",
    "from tensorflow.keras.models import Sequential,Model\n",
    "import pandas as pd\n",
    "import time, pickle\n",
    "import numpy as np\n",
    "import tensorflow.keras.backend as K\n",
    "import tensorflow\n",
    "from tensorflow.keras.layers import Input, Reshape, Lambda\n",
    "from tensorflow.keras.layers import Layer, Flatten, LeakyReLU, concatenate, Dense\n",
    "from tensorflow.keras.regularizers import l2\n",
    "import glob\n",
    "import h5py\n",
    "import matplotlib.pyplot as plt\n",
    "from keras.callbacks import Callback"
   ]
  },
  {
   "cell_type": "code",
   "execution_count": 3,
   "metadata": {},
   "outputs": [],
   "source": [
    "#lookback = 24\n",
    "model = None\n",
    "start_epoch = 0\n",
    "time_steps=24\n",
    "num_features=21"
   ]
  },
  {
   "cell_type": "code",
   "execution_count": 4,
   "metadata": {},
   "outputs": [],
   "source": [
    "def CNN():\n",
    "    input_data = Input(shape=(time_steps, num_features))\n",
    "    x1 = Conv1D(16, 2, activation=\"relu\")(input_data)\n",
    "    x2 = Conv1D(16, 2, activation=\"relu\")(x1)\n",
    "    flatten = Flatten()(x2)\n",
    "    output_data = Dense(1)(flatten)\n",
    "    model = Model(input_data, output_data)\n",
    "    return model"
   ]
  },
  {
   "cell_type": "code",
   "execution_count": 5,
   "metadata": {},
   "outputs": [
    {
     "name": "stdout",
     "output_type": "stream",
     "text": [
      "Model: \"model\"\n",
      "_________________________________________________________________\n",
      " Layer (type)                Output Shape              Param #   \n",
      "=================================================================\n",
      " input_1 (InputLayer)        [(None, 24, 21)]          0         \n",
      "                                                                 \n",
      " conv1d (Conv1D)             (None, 23, 16)            688       \n",
      "                                                                 \n",
      " conv1d_1 (Conv1D)           (None, 22, 16)            528       \n",
      "                                                                 \n",
      " flatten (Flatten)           (None, 352)               0         \n",
      "                                                                 \n",
      " dense (Dense)               (None, 1)                 353       \n",
      "                                                                 \n",
      "=================================================================\n",
      "Total params: 1,569\n",
      "Trainable params: 1,569\n",
      "Non-trainable params: 0\n",
      "_________________________________________________________________\n"
     ]
    }
   ],
   "source": [
    "model1 = CNN()\n",
    "model1.summary()"
   ]
  },
  {
   "cell_type": "code",
   "execution_count": 6,
   "metadata": {},
   "outputs": [
    {
     "data": {
      "image/png": "[encoded data removed]",
      "text/plain": [
       "<IPython.core.display.Image object>"
      ]
     },
     "execution_count": 6,
     "metadata": {},
     "output_type": "execute_result"
    }
   ],
   "source": [
    "tensorflow.keras.utils.plot_model(model1 )"
   ]
  },
  {
   "cell_type": "code",
   "execution_count": 7,
   "metadata": {},
   "outputs": [],
   "source": [
    "checkpoints = r'C:\\Users\\Mujeeb-ur-Rahman\\Desktop\\mujeeb-ur-rahman448\\E1-cp-{epoch:04d}-loss{val_loss:.2f}.h5'\n",
    "OUTPUT_PATH = r'C:\\Users\\Mujeeb-ur-Rahman\\Desktop\\mujeeb-ur-rahman448'\n",
    "#FIG_PATH = os.path.sep.join([OUTPUT_PATH,\"\\history.png\"])\n",
    "#JSON_PATH = os.path.sep.join([OUTPUT_PATH,\"\\history.json\"])"
   ]
  },
  {
   "cell_type": "code",
   "execution_count": 8,
   "metadata": {},
   "outputs": [],
   "source": [
    "import os\n",
    "\n",
    "# Define base output path\n",
    "OUTPUT_PATH = r\"C:\\Users\\Mujeeb-ur-Rahman\\Desktop\\mujeeb-ur-rahman448\\output\"\n",
    "\n",
    "# Ensure output directory exists\n",
    "os.makedirs(OUTPUT_PATH, exist_ok=True)\n",
    "\n",
    "# Define paths\n",
    "FIG_PATH = os.path.join(OUTPUT_PATH, \"training_plot.png\")\n",
    "JSON_PATH = os.path.join(OUTPUT_PATH, \"history.json\")\n",
    "start_epoch = 0\n"
   ]
  },
  {
   "cell_type": "code",
   "execution_count": 9,
   "metadata": {
    "scrolled": true
   },
   "outputs": [],
   "source": [
    "# construct the callback to save only the *best* model to disk\n",
    "# based on the validation loss\n",
    "EpochCheckpoint1 = ModelCheckpoint(checkpoints,\n",
    "                             monitor=\"val_loss\",\n",
    "                             save_best_only=True, \n",
    "                             verbose=1)\n",
    "TrainingMonitor1=TrainingMonitor(FIG_PATH, jsonPath=JSON_PATH, startAt=start_epoch)\n",
    "\n",
    "# construct the set of callbacks\n",
    "callbacks = [EpochCheckpoint1,TrainingMonitor1]"
   ]
  },
  {
   "cell_type": "code",
   "execution_count": null,
   "metadata": {},
   "outputs": [],
   "source": []
  },
  {
   "cell_type": "code",
   "execution_count": 10,
   "metadata": {},
   "outputs": [
    {
     "name": "stdout",
     "output_type": "stream",
     "text": [
      "[INFO] compiling model...\n"
     ]
    }
   ],
   "source": [
    "# if there is no specific model checkpoint supplied, then initialize\n",
    "# the network and compile the model\n",
    "if model is None:\n",
    "    print(\"[INFO] compiling model...\")\n",
    "    model =CNN()\n",
    "    opt = Adam(1e-3)\n",
    "    model.compile(loss= 'mae', optimizer=opt, metrics=[\"mae\", \"mape\"])\n",
    "# otherwise, load the checkpoint from disk\n",
    "else:\n",
    "    print(\"[INFO] loading {}...\".format(model))\n",
    "    model = load_model(model)\n",
    "\n",
    "    # update the learning rate\n",
    "    print(\"[INFO] old learning rate: {}\".format(K.get_value(model.optimizer.lr)))\n",
    "    K.set_value(model.optimizer.lr, 1e-4)\n",
    "    print(\"[INFO] new learning rate: {}\".format(K.get_value(model.optimizer.lr)))"
   ]
  },
  {
   "cell_type": "code",
   "execution_count": 11,
   "metadata": {},
   "outputs": [
    {
     "data": {
      "text/plain": [
       "((84907, 21), (24259, 21), (12130, 21))"
      ]
     },
     "execution_count": 11,
     "metadata": {},
     "output_type": "execute_result"
    }
   ],
   "source": [
    "import os\n",
    "path_dataset =r'C:\\Users\\Mujeeb-ur-Rahman\\Desktop\\mujeeb-ur-rahman448'\n",
    "path_tr = os.path.join(path_dataset, 'AEP_train.csv')\n",
    "df_tr = pd.read_csv(path_tr)\n",
    "train_set = df_tr.iloc[:].values\n",
    "path_v = os.path.join(path_dataset, 'AEP_validation.csv')\n",
    "df_v = pd.read_csv(path_v)\n",
    "validation_set = df_v.iloc[:].values \n",
    "path_te = os.path.join(path_dataset, 'AEP_test.csv')\n",
    "df_te = pd.read_csv(path_te)\n",
    "test_set = df_te.iloc[:].values \n",
    "\n",
    "path_scaler = os.path.join(path_dataset, 'AEP_Scaler.pkl')\n",
    "scaler         = pickle.load(open(path_scaler, 'rb'))\n",
    "\n",
    "train_set.shape, validation_set.shape, test_set.shape"
   ]
  },
  {
   "cell_type": "code",
   "execution_count": 12,
   "metadata": {},
   "outputs": [],
   "source": [
    "time_steps=24\n",
    "num_features=21"
   ]
  },
  {
   "cell_type": "code",
   "execution_count": 13,
   "metadata": {},
   "outputs": [
    {
     "name": "stdout",
     "output_type": "stream",
     "text": [
      "Time Consumed 0.4922149181365967 sec\n"
     ]
    }
   ],
   "source": [
    "start = time.time()\n",
    "train_X , train_y = univariate_multi_step(train_set, time_steps, target_col=0,target_len=1)\n",
    "validation_X, validation_y = univariate_multi_step(validation_set, time_steps, target_col=0,target_len=1)\n",
    "test_X, test_y = univariate_multi_step(test_set, time_steps, target_col=0,target_len=1)\n",
    "print('Time Consumed', time.time()-start, \"sec\")"
   ]
  },
  {
   "cell_type": "code",
   "execution_count": 14,
   "metadata": {},
   "outputs": [
    {
     "name": "stdout",
     "output_type": "stream",
     "text": [
      "Epoch 1/6\n",
      "2643/2653 [============================>.] - ETA: 0s - loss: 0.0402 - mae: 0.0402 - mape: 1335.8167\n",
      "Epoch 1: val_loss improved from inf to 0.02167, saving model to C:\\Users\\Muhammad Luqman\\Desktop\\lab-8-21jzele0444\\E1-cp-0001-loss0.02.h5\n",
      "2653/2653 [==============================] - 11s 4ms/step - loss: 0.0401 - mae: 0.0401 - mape: 1331.0221 - val_loss: 0.0217 - val_mae: 0.0217 - val_mape: 10.0901\n",
      "Epoch 2/6\n",
      "2638/2653 [============================>.] - ETA: 0s - loss: 0.0178 - mae: 0.0178 - mape: 565.2064\n",
      "Epoch 2: val_loss improved from 0.02167 to 0.01636, saving model to C:\\Users\\Muhammad Luqman\\Desktop\\lab-8-21jzele0444\\E1-cp-0002-loss0.02.h5\n",
      "2653/2653 [==============================] - 10s 4ms/step - loss: 0.0178 - mae: 0.0178 - mape: 562.1327 - val_loss: 0.0164 - val_mae: 0.0164 - val_mape: 7.8428\n",
      "Epoch 3/6\n",
      "2644/2653 [============================>.] - ETA: 0s - loss: 0.0138 - mae: 0.0138 - mape: 785.1016\n",
      "Epoch 3: val_loss improved from 0.01636 to 0.01406, saving model to C:\\Users\\Muhammad Luqman\\Desktop\\lab-8-21jzele0444\\E1-cp-0003-loss0.01.h5\n",
      "2653/2653 [==============================] - 10s 4ms/step - loss: 0.0138 - mae: 0.0138 - mape: 782.5817 - val_loss: 0.0141 - val_mae: 0.0141 - val_mape: 7.3894\n",
      "Epoch 4/6\n",
      "2641/2653 [============================>.] - ETA: 0s - loss: 0.0120 - mae: 0.0120 - mape: 877.8876\n",
      "Epoch 4: val_loss improved from 0.01406 to 0.01078, saving model to C:\\Users\\Muhammad Luqman\\Desktop\\lab-8-21jzele0444\\E1-cp-0004-loss0.01.h5\n",
      "2653/2653 [==============================] - 10s 4ms/step - loss: 0.0119 - mae: 0.0119 - mape: 874.0764 - val_loss: 0.0108 - val_mae: 0.0108 - val_mape: 6.2847\n",
      "Epoch 5/6\n",
      "2648/2653 [============================>.] - ETA: 0s - loss: 0.0107 - mae: 0.0107 - mape: 842.8244\n",
      "Epoch 5: val_loss improved from 0.01078 to 0.00962, saving model to C:\\Users\\Muhammad Luqman\\Desktop\\lab-8-21jzele0444\\E1-cp-0005-loss0.01.h5\n",
      "2653/2653 [==============================] - 11s 4ms/step - loss: 0.0107 - mae: 0.0107 - mape: 841.3798 - val_loss: 0.0096 - val_mae: 0.0096 - val_mape: 5.6218\n",
      "Epoch 6/6\n",
      "2653/2653 [==============================] - ETA: 0s - loss: 0.0103 - mae: 0.0103 - mape: 846.8212\n",
      "Epoch 6: val_loss did not improve from 0.00962\n",
      "2653/2653 [==============================] - 11s 4ms/step - loss: 0.0103 - mae: 0.0103 - mape: 846.8212 - val_loss: 0.0109 - val_mae: 0.0109 - val_mape: 7.3444\n"
     ]
    }
   ],
   "source": [
    "epochs = 6\n",
    "verbose = 1 #0\n",
    "batch_size = 32\n",
    "History = model.fit(train_X,\n",
    "                        train_y,\n",
    "                        batch_size=batch_size,   \n",
    "                        epochs = epochs, \n",
    "                        validation_data = (validation_X,validation_y),\n",
    "                        callbacks=callbacks,verbose = verbose)"
   ]
  },
  {
   "cell_type": "code",
   "execution_count": 15,
   "metadata": {},
   "outputs": [
    {
     "name": "stdout",
     "output_type": "stream",
     "text": [
      "379/379 [==============================] - 1s 2ms/step\n",
      "Mean Absolute Error (MAE): 155.11\n",
      "Median Absolute Error (MedAE): 130.99\n",
      "Mean Squared Error (MSE): 39341.51\n",
      "Root Mean Squared Error (RMSE): 198.35\n",
      "Mean Absolute Percentage Error (MAPE): 1.08 %\n",
      "Median Absolute Percentage Error (MDAPE): 0.89 %\n",
      "\n",
      "\n",
      "y_test_unscaled.shape=  (12105, 1)\n",
      "y_pred.shape=  (12105, 1)\n"
     ]
    }
   ],
   "source": [
    "\n",
    "model = load_model(r'C:\\Users\\Mujeeb-ur-Rahman\\Desktop\\mujeeb-ur-rahman448\\E1-cp-0005-loss0.01.h5')\n",
    "\n",
    "y_pred_scaled   = model.predict(test_X)\n",
    "y_pred          = scaler.inverse_transform(y_pred_scaled)\n",
    "y_test_unscaled = scaler.inverse_transform(test_y)\n",
    "# Mean Absolute Error (MAE)\n",
    "MAE = np.mean(abs(y_pred - y_test_unscaled)) \n",
    "print('Mean Absolute Error (MAE): ' + str(np.round(MAE, 2)))\n",
    "\n",
    "# Median Absolute Error (MedAE)\n",
    "MEDAE = np.median(abs(y_pred - y_test_unscaled))\n",
    "print('Median Absolute Error (MedAE): ' + str(np.round(MEDAE, 2)))\n",
    "\n",
    "# Mean Squared Error (MSE)\n",
    "MSE = np.square(np.subtract(y_pred, y_test_unscaled)).mean()\n",
    "print('Mean Squared Error (MSE): ' + str(np.round(MSE, 2)))\n",
    "\n",
    "# Root Mean Squarred Error (RMSE) \n",
    "RMSE = np.sqrt(np.mean(np.square(y_pred - y_test_unscaled)))\n",
    "print('Root Mean Squared Error (RMSE): ' + str(np.round(RMSE, 2)))\n",
    "\n",
    "# Mean Absolute Percentage Error (MAPE)\n",
    "MAPE = np.mean((np.abs(np.subtract(y_test_unscaled, y_pred)/ y_test_unscaled))) * 100\n",
    "print('Mean Absolute Percentage Error (MAPE): ' + str(np.round(MAPE, 2)) + ' %')\n",
    "\n",
    "# Median Absolute Percentage Error (MDAPE)\n",
    "MDAPE = np.median((np.abs(np.subtract(y_test_unscaled, y_pred)/ y_test_unscaled))) * 100\n",
    "print('Median Absolute Percentage Error (MDAPE): ' + str(np.round(MDAPE, 2)) + ' %')\n",
    "\n",
    "print('\\n\\ny_test_unscaled.shape= ',y_test_unscaled.shape)\n",
    "print('y_pred.shape= ',y_pred.shape)"
   ]
  },
  {
   "cell_type": "code",
   "execution_count": 20,
   "metadata": {},
   "outputs": [],
   "source": [
    "checkpoints = r'C:\\Users\\Mujeeb-ur-Rahman\\Desktop\\mujeeb-ur-rahman448\\E2-cp-{epoch:04d}-loss{val_loss:.2f}.h5'\n",
    "model=r'C:\\Users\\Mujeeb-ur-Rahman\\Desktop\\mujeeb-ur-rahman448\\E1-cp-0005-loss0.01.h5'\n",
    "start_epoch= 6"
   ]
  },
  {
   "cell_type": "code",
   "execution_count": 21,
   "metadata": {},
   "outputs": [
    {
     "name": "stdout",
     "output_type": "stream",
     "text": [
      "[INFO] loading C:\\Users\\Muhammad Luqman\\Desktop\\lab-8-21jzele0444\\E1-cp-0005-loss0.01.h5...\n",
      "[INFO] old learning rate: 0.0010000000474974513\n",
      "[INFO] new learning rate: 9.999999747378752e-05\n"
     ]
    }
   ],
   "source": [
    "# construct the callback to save only the *best* model to disk\n",
    "# based on the validation loss\n",
    "EpochCheckpoint1 = ModelCheckpoint(checkpoints,\n",
    "                             monitor=\"val_loss\",\n",
    "                             save_best_only=True, \n",
    "                             verbose=1)\n",
    "TrainingMonitor1=TrainingMonitor(FIG_PATH, jsonPath=JSON_PATH, startAt=start_epoch)\n",
    "\n",
    "# construct the set of callbacks\n",
    "callbacks = [EpochCheckpoint1,TrainingMonitor1]\n",
    "# if there is no specific model checkpoint supplied, then initialize\n",
    "# the network and compile the model\n",
    "if model is None:\n",
    "    print(\"[INFO] compiling model...\")\n",
    "    model = PC.build(time_steps=24, num_features=21, reg=0.0005)\n",
    "    opt = Adam(1e-3)\n",
    "    model.compile(loss= 'mae', optimizer=opt, metrics=[\"mae\", \"mape\"])\n",
    "# otherwise, load the checkpoint from disk\n",
    "else:\n",
    "    print(\"[INFO] loading {}...\".format(model))\n",
    "    model = load_model(model)\n",
    "\n",
    "    # update the learning rate\n",
    "    print(\"[INFO] old learning rate: {}\".format(K.get_value(model.optimizer.lr)))\n",
    "    K.set_value(model.optimizer.lr, 1e-4)\n",
    "    print(\"[INFO] new learning rate: {}\".format(K.get_value(model.optimizer.lr)))"
   ]
  },
  {
   "cell_type": "code",
   "execution_count": 22,
   "metadata": {},
   "outputs": [
    {
     "name": "stdout",
     "output_type": "stream",
     "text": [
      "Epoch 1/10\n",
      "2651/2653 [============================>.] - ETA: 0s - loss: 0.0078 - mae: 0.0078 - mape: 789.4785\n",
      "Epoch 1: val_loss improved from inf to 0.00780, saving model to C:\\Users\\Muhammad Luqman\\Desktop\\lab-8-21jzele0444\\E2-cp-0001-loss0.01.h5\n",
      "2653/2653 [==============================] - 11s 4ms/step - loss: 0.0078 - mae: 0.0078 - mape: 789.0145 - val_loss: 0.0078 - val_mae: 0.0078 - val_mape: 4.7395\n",
      "Epoch 2/10\n",
      "2649/2653 [============================>.] - ETA: 0s - loss: 0.0076 - mae: 0.0076 - mape: 720.6570\n",
      "Epoch 2: val_loss improved from 0.00780 to 0.00767, saving model to C:\\Users\\Muhammad Luqman\\Desktop\\lab-8-21jzele0444\\E2-cp-0002-loss0.01.h5\n",
      "2653/2653 [==============================] - 11s 4ms/step - loss: 0.0076 - mae: 0.0076 - mape: 719.6919 - val_loss: 0.0077 - val_mae: 0.0077 - val_mape: 4.4946\n",
      "Epoch 3/10\n",
      "2646/2653 [============================>.] - ETA: 0s - loss: 0.0075 - mae: 0.0075 - mape: 646.4354\n",
      "Epoch 3: val_loss improved from 0.00767 to 0.00744, saving model to C:\\Users\\Muhammad Luqman\\Desktop\\lab-8-21jzele0444\\E2-cp-0003-loss0.01.h5\n",
      "2653/2653 [==============================] - 10s 4ms/step - loss: 0.0075 - mae: 0.0075 - mape: 644.8453 - val_loss: 0.0074 - val_mae: 0.0074 - val_mape: 4.1986\n",
      "Epoch 4/10\n",
      "2650/2653 [============================>.] - ETA: 0s - loss: 0.0075 - mae: 0.0075 - mape: 643.2699\n",
      "Epoch 4: val_loss did not improve from 0.00744\n",
      "2653/2653 [==============================] - 10s 4ms/step - loss: 0.0075 - mae: 0.0075 - mape: 642.6506 - val_loss: 0.0076 - val_mae: 0.0076 - val_mape: 4.2962\n",
      "Epoch 5/10\n",
      "2646/2653 [============================>.] - ETA: 0s - loss: 0.0074 - mae: 0.0074 - mape: 630.9034\n",
      "Epoch 5: val_loss did not improve from 0.00744\n",
      "2653/2653 [==============================] - 10s 4ms/step - loss: 0.0074 - mae: 0.0074 - mape: 629.3477 - val_loss: 0.0075 - val_mae: 0.0075 - val_mape: 4.1528\n",
      "Epoch 6/10\n",
      "2645/2653 [============================>.] - ETA: 0s - loss: 0.0074 - mae: 0.0074 - mape: 587.3514\n",
      "Epoch 6: val_loss improved from 0.00744 to 0.00735, saving model to C:\\Users\\Muhammad Luqman\\Desktop\\lab-8-21jzele0444\\E2-cp-0006-loss0.01.h5\n",
      "2653/2653 [==============================] - 11s 4ms/step - loss: 0.0074 - mae: 0.0074 - mape: 585.6831 - val_loss: 0.0074 - val_mae: 0.0074 - val_mape: 4.0332\n",
      "Epoch 7/10\n",
      "2641/2653 [============================>.] - ETA: 0s - loss: 0.0073 - mae: 0.0073 - mape: 648.6511\n",
      "Epoch 7: val_loss improved from 0.00735 to 0.00731, saving model to C:\\Users\\Muhammad Luqman\\Desktop\\lab-8-21jzele0444\\E2-cp-0007-loss0.01.h5\n",
      "2653/2653 [==============================] - 11s 4ms/step - loss: 0.0073 - mae: 0.0073 - mape: 645.8339 - val_loss: 0.0073 - val_mae: 0.0073 - val_mape: 4.0029\n",
      "Epoch 8/10\n",
      "2648/2653 [============================>.] - ETA: 0s - loss: 0.0073 - mae: 0.0073 - mape: 621.2731\n",
      "Epoch 8: val_loss did not improve from 0.00731\n",
      "2653/2653 [==============================] - 11s 4ms/step - loss: 0.0073 - mae: 0.0073 - mape: 620.2083 - val_loss: 0.0074 - val_mae: 0.0074 - val_mape: 4.0634\n",
      "Epoch 9/10\n",
      "2648/2653 [============================>.] - ETA: 0s - loss: 0.0073 - mae: 0.0073 - mape: 664.8599\n",
      "Epoch 9: val_loss improved from 0.00731 to 0.00719, saving model to C:\\Users\\Muhammad Luqman\\Desktop\\lab-8-21jzele0444\\E2-cp-0009-loss0.01.h5\n",
      "2653/2653 [==============================] - 10s 4ms/step - loss: 0.0073 - mae: 0.0073 - mape: 663.7206 - val_loss: 0.0072 - val_mae: 0.0072 - val_mape: 4.0890\n",
      "Epoch 10/10\n",
      "2638/2653 [============================>.] - ETA: 0s - loss: 0.0072 - mae: 0.0072 - mape: 582.3513\n",
      "Epoch 10: val_loss did not improve from 0.00719\n",
      "2653/2653 [==============================] - 11s 4ms/step - loss: 0.0072 - mae: 0.0072 - mape: 579.1671 - val_loss: 0.0075 - val_mae: 0.0075 - val_mape: 4.3651\n"
     ]
    }
   ],
   "source": [
    "epochs = 10\n",
    "verbose = 1 #0\n",
    "batch_size = 32\n",
    "History = model.fit(train_X,\n",
    "                        train_y,\n",
    "                        batch_size=batch_size,   \n",
    "                        epochs = epochs, \n",
    "                        validation_data = (validation_X,validation_y),\n",
    "                        callbacks=callbacks,\n",
    "                        verbose = verbose)"
   ]
  },
  {
   "cell_type": "code",
   "execution_count": 23,
   "metadata": {},
   "outputs": [
    {
     "name": "stdout",
     "output_type": "stream",
     "text": [
      "379/379 [==============================] - 1s 2ms/step\n",
      "Mean Absolute Error (MAE): 116.32\n",
      "Median Absolute Error (MedAE): 93.36\n",
      "Mean Squared Error (MSE): 23703.81\n",
      "Root Mean Squared Error (RMSE): 153.96\n",
      "Mean Absolute Percentage Error (MAPE): 0.81 %\n",
      "Median Absolute Percentage Error (MDAPE): 0.65 %\n",
      "\n",
      "\n",
      "y_test_unscaled.shape=  (12105, 1)\n",
      "y_pred.shape=  (12105, 1)\n"
     ]
    }
   ],
   "source": [
    "\n",
    "model = load_model(r'C:\\Users\\Mujeeb-ur-Rahman\\Desktop\\mujeeb-ur-rahman448\\E2-cp-0009-loss0.01.h5')\n",
    "\n",
    "y_pred_scaled   = model.predict(test_X)\n",
    "y_pred          = scaler.inverse_transform(y_pred_scaled)\n",
    "y_test_unscaled = scaler.inverse_transform(test_y)\n",
    "# Mean Absolute Error (MAE)\n",
    "MAE = np.mean(abs(y_pred - y_test_unscaled)) \n",
    "print('Mean Absolute Error (MAE): ' + str(np.round(MAE, 2)))\n",
    "\n",
    "# Median Absolute Error (MedAE)\n",
    "MEDAE = np.median(abs(y_pred - y_test_unscaled))\n",
    "print('Median Absolute Error (MedAE): ' + str(np.round(MEDAE, 2)))\n",
    "\n",
    "# Mean Squared Error (MSE)\n",
    "MSE = np.square(np.subtract(y_pred, y_test_unscaled)).mean()\n",
    "print('Mean Squared Error (MSE): ' + str(np.round(MSE, 2)))\n",
    "\n",
    "# Root Mean Squarred Error (RMSE) \n",
    "RMSE = np.sqrt(np.mean(np.square(y_pred - y_test_unscaled)))\n",
    "print('Root Mean Squared Error (RMSE): ' + str(np.round(RMSE, 2)))\n",
    "\n",
    "# Mean Absolute Percentage Error (MAPE)\n",
    "MAPE = np.mean((np.abs(np.subtract(y_test_unscaled, y_pred)/ y_test_unscaled))) * 100\n",
    "print('Mean Absolute Percentage Error (MAPE): ' + str(np.round(MAPE, 2)) + ' %')\n",
    "\n",
    "# Median Absolute Percentage Error (MDAPE)\n",
    "MDAPE = np.median((np.abs(np.subtract(y_test_unscaled, y_pred)/ y_test_unscaled))) * 100\n",
    "print('Median Absolute Percentage Error (MDAPE): ' + str(np.round(MDAPE, 2)) + ' %')\n",
    "\n",
    "print('\\n\\ny_test_unscaled.shape= ',y_test_unscaled.shape)\n",
    "print('y_pred.shape= ',y_pred.shape)"
   ]
  },
  {
   "cell_type": "code",
   "execution_count": null,
   "metadata": {},
   "outputs": [],
   "source": []
  }
 ],
 "metadata": {
  "kernelspec": {
   "display_name": "Python 3 (ipykernel)",
   "language": "python",
   "name": "python3"
  },
  "language_info": {
   "codemirror_mode": {
    "name": "ipython",
    "version": 3
   },
   "file_extension": ".py",
   "mimetype": "text/x-python",
   "name": "python",
   "nbconvert_exporter": "python",
   "pygments_lexer": "ipython3",
   "version": "3.7.16"
  }
 },
 "nbformat": 4,
 "nbformat_minor": 4
}
